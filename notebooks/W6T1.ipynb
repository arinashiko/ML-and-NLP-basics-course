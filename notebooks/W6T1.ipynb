{
 "nbformat": 4,
 "nbformat_minor": 0,
 "metadata": {
  "colab": {
   "provenance": []
  },
  "kernelspec": {
   "display_name": "Python 3",
   "language": "python",
   "name": "python3"
  },
  "language_info": {
   "codemirror_mode": {
    "name": "ipython",
    "version": 3
   },
   "file_extension": ".py",
   "mimetype": "text/x-python",
   "name": "python",
   "nbconvert_exporter": "python",
   "pygments_lexer": "ipython3",
   "version": "3.7.6"
  }
 },
 "cells": [
  {
   "cell_type": "markdown",
   "metadata": {
    "id": "LUuyLVDZ4s8r"
   },
   "source": [
    "# RNNMorhp Predictor for text analysis"
   ]
  },
  {
   "cell_type": "markdown",
   "metadata": {
    "id": "xwJ5Q6w2IFHA"
   },
   "source": [
    "**Ссылка**, на источник текста"
   ]
  },
  {
   "cell_type": "code",
   "metadata": {
    "id": "64uxt-07IEec",
    "ExecuteTime": {
     "end_time": "2023-05-18T20:09:47.342035200Z",
     "start_time": "2023-05-18T20:09:47.294571500Z"
    }
   },
   "source": [
    "DATA_URL = 'http://az.lib.ru/g/gogolx_n_w/text_0050.shtml'\n",
    "# DATA_URL = 'http://az.lib.ru/t/tolstoj_a_k/text_0180.shtml'"
   ],
   "execution_count": 56,
   "outputs": []
  },
  {
   "cell_type": "markdown",
   "metadata": {
    "id": "gwrBkeLnHuA1"
   },
   "source": [
    "Устанавливаем библиотеки"
   ]
  },
  {
   "cell_type": "code",
   "metadata": {
    "id": "H5Fr5swwYfz5",
    "colab": {
     "base_uri": "https://localhost:8080/"
    },
    "outputId": "48b68d47-fe65-46b6-bd92-66dfa9324bac",
    "ExecuteTime": {
     "end_time": "2023-05-18T20:09:49.604765600Z",
     "start_time": "2023-05-18T20:09:49.588725900Z"
    }
   },
   "source": [
    "import warnings\n",
    "warnings.filterwarnings('ignore')"
   ],
   "execution_count": 57,
   "outputs": []
  },
  {
   "cell_type": "markdown",
   "metadata": {
    "id": "gbxMKqhPH1Dk"
   },
   "source": [
    "Создаём объект морфологического анализатора `RNNMorph`"
   ]
  },
  {
   "cell_type": "code",
   "metadata": {
    "id": "24zMUhvi99AV",
    "ExecuteTime": {
     "end_time": "2023-05-18T20:09:53.734350400Z",
     "start_time": "2023-05-18T20:09:52.566073Z"
    }
   },
   "source": [
    "from rnnmorph.predictor import RNNMorphPredictor\n",
    "predictor = RNNMorphPredictor(language=\"ru\")"
   ],
   "execution_count": 58,
   "outputs": []
  },
  {
   "cell_type": "markdown",
   "metadata": {
    "id": "59q1L9p0H9K9"
   },
   "source": [
    "Скачиваем текст, по которому будет дано задание, с помощью `urllib`"
   ]
  },
  {
   "cell_type": "code",
   "metadata": {
    "id": "0uW0fw_h-Pft",
    "ExecuteTime": {
     "end_time": "2023-05-18T20:09:57.882199200Z",
     "start_time": "2023-05-18T20:09:57.719193900Z"
    }
   },
   "source": [
    "import urllib.request\n",
    "\n",
    "opener = urllib.request.URLopener({})\n",
    "resource = opener.open(DATA_URL)\n",
    "raw_text = resource.read().decode(resource.headers.get_content_charset()) #Текс с html тегами"
   ],
   "execution_count": 59,
   "outputs": []
  },
  {
   "cell_type": "code",
   "metadata": {
    "colab": {
     "base_uri": "https://localhost:8080/",
     "height": 54
    },
    "id": "-hSPOjDo4sdh",
    "outputId": "666f3875-7e96-4025-952d-7d8b71cb44b2",
    "ExecuteTime": {
     "end_time": "2023-05-18T20:10:03.561667700Z",
     "start_time": "2023-05-18T20:10:03.514611400Z"
    }
   },
   "source": [
    "raw_text[:200]"
   ],
   "execution_count": 60,
   "outputs": [
    {
     "data": {
      "text/plain": "'<html>\\r\\n<head>\\r\\n<title>Lib.ru/Классика: Гоголь Николай Васильевич. Вий</title>\\r\\n</head>\\r\\n\\r\\n<body>\\r\\n\\r\\n\\r\\n<center>\\r\\n\\r\\n<h2><a href=/g/gogolx_n_w/>Гоголь Николай Васильевич</a><br>\\r\\nВий</h2>\\r\\n\\r\\n<!------- П'"
     },
     "execution_count": 60,
     "metadata": {},
     "output_type": "execute_result"
    }
   ]
  },
  {
   "cell_type": "markdown",
   "metadata": {
    "id": "uZiLHQNSITAt"
   },
   "source": [
    "Как видно, текст содержит html теги, от которых нужно избавиться. Выбрасываем из текста HTML-теги с помощью библиотеки Beatiful soap"
   ]
  },
  {
   "cell_type": "code",
   "metadata": {
    "id": "We4LkyUMPfuq",
    "ExecuteTime": {
     "end_time": "2023-05-18T20:10:15.686508200Z",
     "start_time": "2023-05-18T20:10:15.647619900Z"
    }
   },
   "source": [
    "from bs4 import BeautifulSoup\n",
    "soup = BeautifulSoup(raw_text, features=\"html.parser\")\n",
    "\n",
    "# kill all script and style elements\n",
    "for script in soup([\"script\", \"style\"]):\n",
    "    script.extract()    # rip it out\n",
    "\n",
    "# get text\n",
    "cleaned_text = soup.get_text()"
   ],
   "execution_count": 61,
   "outputs": []
  },
  {
   "cell_type": "code",
   "metadata": {
    "colab": {
     "base_uri": "https://localhost:8080/",
     "height": 54
    },
    "id": "lOD8PJnG4rbl",
    "outputId": "83eb8d60-fad8-4b1b-a602-b8182514b6da",
    "ExecuteTime": {
     "end_time": "2023-05-18T20:10:17.675662700Z",
     "start_time": "2023-05-18T20:10:17.634570600Z"
    }
   },
   "source": [
    "cleaned_text[:200]"
   ],
   "execution_count": 62,
   "outputs": [
    {
     "data": {
      "text/plain": "'\\n\\nLib.ru/Классика: Гоголь Николай Васильевич. Вий\\n\\n\\n\\nГоголь Николай Васильевич\\r\\nВий\\n\\n\\nLib.ru/Классика:\\n\\r\\n\\n\\n[Регистрация]\\n \\n\\r\\n\\r\\n\\r\\n[Найти] \\r\\n[Рейтинги]\\r\\n[Обсуждения]\\r\\n[Новинки]\\r\\n[Обзоры]\\r\\n[Помощь]\\r\\n\\r\\n\\n\\n'"
     },
     "execution_count": 62,
     "metadata": {},
     "output_type": "execute_result"
    }
   ]
  },
  {
   "cell_type": "markdown",
   "metadata": {
    "id": "14fYYb5hIpnY"
   },
   "source": [
    "С помощью библиотеки [NLTK](https://nltk.org/) разбиваем текст на предложения и токены."
   ]
  },
  {
   "cell_type": "code",
   "metadata": {
    "colab": {
     "base_uri": "https://localhost:8080/",
     "height": 71
    },
    "id": "hRNu7jPvN6G_",
    "outputId": "54ce7e38-c21d-4497-dcd0-34594fa92e96",
    "ExecuteTime": {
     "end_time": "2023-05-18T20:10:23.606492600Z",
     "start_time": "2023-05-18T20:10:21.258206500Z"
    }
   },
   "source": [
    "from nltk.tokenize import sent_tokenize, word_tokenize\n",
    "import nltk\n",
    "nltk.download('punkt')\n",
    "\n",
    "tokenized_sentences = [word_tokenize(sentence) for sentence in sent_tokenize(cleaned_text)]\n",
    "\"A total of %d 'sentences'\" % len(tokenized_sentences)"
   ],
   "execution_count": 63,
   "outputs": [
    {
     "name": "stderr",
     "output_type": "stream",
     "text": [
      "[nltk_data] Downloading package punkt to\n",
      "[nltk_data]     C:\\Users\\mikhail.komarov\\AppData\\Roaming\\nltk_data...\n",
      "[nltk_data]   Package punkt is already up-to-date!\n"
     ]
    },
    {
     "data": {
      "text/plain": "\"A total of 934 'sentences'\""
     },
     "execution_count": 63,
     "metadata": {},
     "output_type": "execute_result"
    }
   ]
  },
  {
   "cell_type": "markdown",
   "metadata": {
    "id": "xRU4KEBAIyYT"
   },
   "source": [
    "## Задание 1\n",
    "С помощью метода `str.isalpha` из стандартной библиотеки Python модифицируйте нижеследующий код так, чтобы в predictions остались только буквенные токены."
   ]
  },
  {
   "cell_type": "code",
   "metadata": {
    "colab": {
     "base_uri": "https://localhost:8080/"
    },
    "id": "4U5HH2CDPVUM",
    "outputId": "59b73791-ad19-4f16-90b4-86cfede971dd",
    "ExecuteTime": {
     "end_time": "2023-05-18T20:10:41.692062Z",
     "start_time": "2023-05-18T20:10:28.593283400Z"
    }
   },
   "source": [
    "from tqdm import tqdm\n",
    "predictions = [[pred.normal_form for pred in sent] \n",
    "               for sent in tqdm(predictor.predict_sentences(sentences=tokenized_sentences), \"sentences\") ]\n",
    "predictions[-11:-10] #Сейчас видно, что токены типа \"точка\", \"запятая\" и тд пока присутствуют в предложениях. От них нужно избавиться"
   ],
   "execution_count": 64,
   "outputs": [
    {
     "name": "stdout",
     "output_type": "stream",
     "text": [
      "15/15 [==============================] - 4s 182ms/step\n"
     ]
    },
    {
     "name": "stderr",
     "output_type": "stream",
     "text": [
      "sentences: 100%|██████████| 934/934 [00:00<00:00, 233600.47it/s]\n"
     ]
    },
    {
     "data": {
      "text/plain": "[['пфейфер', '(', 'он', '.', ')']]"
     },
     "execution_count": 64,
     "metadata": {},
     "output_type": "execute_result"
    }
   ]
  },
  {
   "cell_type": "code",
   "execution_count": 65,
   "outputs": [],
   "source": [
    "predictions = list(list(filter(lambda x: str.isalpha(x), i)) for i in predictions)"
   ],
   "metadata": {
    "collapsed": false,
    "ExecuteTime": {
     "end_time": "2023-05-18T20:10:45.471509700Z",
     "start_time": "2023-05-18T20:10:45.442290400Z"
    }
   }
  },
  {
   "cell_type": "markdown",
   "metadata": {
    "id": "CHGDhxhNJtTz"
   },
   "source": [
    "Проверьте себя. Должны получиться следующие значения:\n",
    "\n",
    "*   Предложений: 577 (возможны расхождения в несколько предложений)\n",
    "*   Токенов: примерно 8621 (возможны расхождения в некоторое количество токенов)"
   ]
  },
  {
   "cell_type": "code",
   "metadata": {
    "colab": {
     "base_uri": "https://localhost:8080/"
    },
    "id": "nwK_qRbw6sac",
    "outputId": "76dfc208-96cc-4845-dc56-613a7aebd9bb",
    "ExecuteTime": {
     "end_time": "2023-05-18T20:10:49.399570700Z",
     "start_time": "2023-05-18T20:10:49.384572400Z"
    }
   },
   "source": [
    "len(predictions)"
   ],
   "execution_count": 66,
   "outputs": [
    {
     "data": {
      "text/plain": "934"
     },
     "execution_count": 66,
     "metadata": {},
     "output_type": "execute_result"
    }
   ]
  },
  {
   "cell_type": "code",
   "metadata": {
    "id": "J5jL4sWyKUnO",
    "colab": {
     "base_uri": "https://localhost:8080/"
    },
    "outputId": "edf259f6-894c-4120-d1e7-ca68593be12c",
    "ExecuteTime": {
     "end_time": "2023-05-18T20:10:51.435740Z",
     "start_time": "2023-05-18T20:10:51.405958400Z"
    }
   },
   "source": [
    "non_uniq_tokens = [word for sentence in predictions for word in sentence]\n",
    "len(non_uniq_tokens)"
   ],
   "execution_count": 67,
   "outputs": [
    {
     "data": {
      "text/plain": "11732"
     },
     "execution_count": 67,
     "metadata": {},
     "output_type": "execute_result"
    }
   ]
  },
  {
   "cell_type": "markdown",
   "metadata": {
    "id": "Yg2e-1hAKiT3"
   },
   "source": [
    "Для продолжения работы над заданием числа должны быть близки к указанным"
   ]
  },
  {
   "cell_type": "markdown",
   "metadata": {
    "id": "Mci9Nd5hKuJP"
   },
   "source": [
    "## Задание 2\n",
    "\n",
    "Используя `non_uniq_tokens`, стоп-слова для русского языка из библиотеки nltk (`nltk.corpus.stopwords`) и `nltk.FreqDist`, вычислите, **какую долю среди 100 самых частотных** токенов в произведении занимают токены, **не относящиеся** к стоп словам. \n",
    "\n",
    "**Например**, если среди 100 самых частотных слов встречается 25 слов, входящих в стоп лист, значит не входят в стоп лист 75 слов, и их доля составит 0.75. \n",
    "\n",
    "**Не бойтесь использовать документацию NLTK и тьюториалы.**"
   ]
  },
  {
   "cell_type": "code",
   "metadata": {
    "colab": {
     "base_uri": "https://localhost:8080/"
    },
    "id": "gHbtLqkLKfZC",
    "outputId": "5f62c17c-d14a-464f-dbe2-b854e66765df",
    "ExecuteTime": {
     "end_time": "2023-05-18T20:10:55.854597300Z",
     "start_time": "2023-05-18T20:10:55.820017400Z"
    }
   },
   "source": [
    "import nltk\n",
    "from nltk import FreqDist\n",
    "from nltk.corpus import stopwords\n",
    "nltk.download(\"stopwords\")\n",
    "STOPWORDS = set(stopwords.words(\"russian\"))\n",
    "stopwords.words(\"russian\")[:5] #Пример стоп слов"
   ],
   "execution_count": 68,
   "outputs": [
    {
     "name": "stderr",
     "output_type": "stream",
     "text": [
      "[nltk_data] Downloading package stopwords to\n",
      "[nltk_data]     C:\\Users\\mikhail.komarov\\AppData\\Roaming\\nltk_data...\n",
      "[nltk_data]   Package stopwords is already up-to-date!\n"
     ]
    },
    {
     "data": {
      "text/plain": "['и', 'в', 'во', 'не', 'что']"
     },
     "execution_count": 68,
     "metadata": {},
     "output_type": "execute_result"
    }
   ]
  },
  {
   "cell_type": "code",
   "execution_count": 69,
   "outputs": [],
   "source": [
    "fdist = FreqDist(non_uniq_tokens)"
   ],
   "metadata": {
    "collapsed": false,
    "ExecuteTime": {
     "end_time": "2023-05-18T20:10:59.033523400Z",
     "start_time": "2023-05-18T20:10:59.010525400Z"
    }
   }
  },
  {
   "cell_type": "code",
   "execution_count": 70,
   "outputs": [
    {
     "data": {
      "text/plain": "0.5733333333333334"
     },
     "execution_count": 70,
     "metadata": {},
     "output_type": "execute_result"
    }
   ],
   "source": [
    "N = 150\n",
    "\n",
    "top_N_freq_tokens = list(map(lambda x: x[0], fdist.most_common(N)))\n",
    "\n",
    "len(list(filter(lambda x: x not in STOPWORDS, top_N_freq_tokens)))/N"
   ],
   "metadata": {
    "collapsed": false,
    "ExecuteTime": {
     "end_time": "2023-05-18T20:11:55.432682200Z",
     "start_time": "2023-05-18T20:11:55.415683300Z"
    }
   }
  },
  {
   "cell_type": "markdown",
   "metadata": {
    "id": "ezdbB95YwtSl"
   },
   "source": [
    "Проверьте себя: должно получиться 0.49 (допустимо небольшое расхождение)"
   ]
  },
  {
   "cell_type": "markdown",
   "metadata": {
    "id": "HChyAdk2Ovx1"
   },
   "source": [
    "## Задание 3\n",
    "Вычислите, сколько токенов встречается в тексте **строго больше** 50 раз."
   ]
  },
  {
   "cell_type": "code",
   "execution_count": 71,
   "outputs": [
    {
     "data": {
      "text/plain": "161"
     },
     "execution_count": 71,
     "metadata": {},
     "output_type": "execute_result"
    }
   ],
   "source": [
    "len(list(filter(lambda x: x[1] > 10, fdist.most_common())))"
   ],
   "metadata": {
    "collapsed": false,
    "ExecuteTime": {
     "end_time": "2023-05-18T20:12:17.903454900Z",
     "start_time": "2023-05-18T20:12:17.888461200Z"
    }
   }
  },
  {
   "cell_type": "markdown",
   "metadata": {
    "id": "V6HZ2w3yxJEh"
   },
   "source": [
    "Проверьте себя: должно получиться значение 22 (возможно небольшое расхождение)\n"
   ]
  }
 ]
}
