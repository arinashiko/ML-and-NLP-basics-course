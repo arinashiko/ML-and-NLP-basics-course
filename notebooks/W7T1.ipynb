{
 "cells": [
  {
   "cell_type": "markdown",
   "metadata": {
    "colab_type": "text",
    "id": "Vd_ST0GfO97y"
   },
   "source": [
    "# Информационный поиск\n",
    "\n",
    "Скачиваем классический набор данных -- набор текстов об аэронавтике CRANFIELD"
   ]
  },
  {
   "cell_type": "code",
   "execution_count": 1,
   "metadata": {
    "colab": {
     "base_uri": "https://localhost:8080/",
     "height": 85
    },
    "colab_type": "code",
    "executionInfo": {
     "elapsed": 6989,
     "status": "ok",
     "timestamp": 1586443376578,
     "user": {
      "displayName": "Дмитрий Волчек",
      "photoUrl": "https://lh3.googleusercontent.com/a-/AOh14GgN8jjHr8b6AlqmkI_BBSJH_qXpcmh3mgxKpBXd=s64",
      "userId": "12396512946067001179"
     },
     "user_tz": -180
    },
    "id": "AHflLH2APAHK",
    "outputId": "2a1dad1c-2e1a-4bdc-91a2-f6befe15be64",
    "ExecuteTime": {
     "end_time": "2023-05-21T19:22:10.496310900Z",
     "start_time": "2023-05-21T19:22:10.277559Z"
    }
   },
   "outputs": [
    {
     "name": "stderr",
     "output_type": "stream",
     "text": [
      "'wget' is not recognized as an internal or external command,\n",
      "operable program or batch file.\n",
      "tar: Error opening archive: Failed to open 'cran.tar.gz'\n",
      "'rm' is not recognized as an internal or external command,\n",
      "operable program or batch file.\n"
     ]
    }
   ],
   "source": [
    "# ! wget -q http://ir.dcs.gla.ac.uk/resources/test_collections/cran/cran.tar.gz\n",
    "# ! tar -xvf cran.tar.gz\n",
    "# ! rm cran.tar.gz*"
   ]
  },
  {
   "cell_type": "markdown",
   "metadata": {
    "colab_type": "text",
    "id": "zYuND83cPR5D"
   },
   "source": [
    "Берём только сами запросы (это будут наши документы)"
   ]
  },
  {
   "cell_type": "code",
   "execution_count": 3,
   "metadata": {
    "colab": {
     "base_uri": "https://localhost:8080/",
     "height": 68
    },
    "colab_type": "code",
    "executionInfo": {
     "elapsed": 4553,
     "status": "ok",
     "timestamp": 1586443381958,
     "user": {
      "displayName": "Дмитрий Волчек",
      "photoUrl": "https://lh3.googleusercontent.com/a-/AOh14GgN8jjHr8b6AlqmkI_BBSJH_qXpcmh3mgxKpBXd=s64",
      "userId": "12396512946067001179"
     },
     "user_tz": -180
    },
    "id": "6owW-L7zhJws",
    "outputId": "5d1a9a46-5e0e-4fce-bab6-93b3f3dadf94",
    "ExecuteTime": {
     "end_time": "2023-05-21T19:37:22.176188Z",
     "start_time": "2023-05-21T19:37:22.028444Z"
    }
   },
   "outputs": [
    {
     "name": "stderr",
     "output_type": "stream",
     "text": [
      "'Select-String' is not recognized as an internal or external command,\n",
      "operable program or batch file.\n",
      "'Select' is not recognized as an internal or external command,\n",
      "operable program or batch file.\n"
     ]
    }
   ],
   "source": [
    "# ! grep -v \"^\\.\" cran.qry > just.qry\n",
    "# ! head -3 just.qry"
   ]
  },
  {
   "cell_type": "markdown",
   "metadata": {
    "colab_type": "text",
    "id": "8ZbUb6FmQxr1"
   },
   "source": [
    "Объединяем многострочные в один"
   ]
  },
  {
   "cell_type": "code",
   "execution_count": 7,
   "metadata": {
    "colab": {
     "base_uri": "https://localhost:8080/",
     "height": 51
    },
    "colab_type": "code",
    "executionInfo": {
     "elapsed": 1217,
     "status": "ok",
     "timestamp": 1586443394212,
     "user": {
      "displayName": "Дмитрий Волчек",
      "photoUrl": "https://lh3.googleusercontent.com/a-/AOh14GgN8jjHr8b6AlqmkI_BBSJH_qXpcmh3mgxKpBXd=s64",
      "userId": "12396512946067001179"
     },
     "user_tz": -180
    },
    "id": "SBaV3xeQiUam",
    "outputId": "68bf7ac9-a2f8-43f9-d165-f6f0702c7620",
    "ExecuteTime": {
     "end_time": "2023-05-21T19:44:50.395047500Z",
     "start_time": "2023-05-21T19:44:50.374368Z"
    }
   },
   "outputs": [],
   "source": [
    "raw_query_data = [line.strip() for line in open(\"../data/W7T1/just.qry\", \"r\", encoding='utf-16-le').readlines()]\n",
    "query_data = [\"\"]\n",
    "\n",
    "for query_part in raw_query_data:\n",
    "  query_data[-1] += query_part + \" \"\n",
    "  if query_part.endswith(\".\"):\n",
    "    query_data.append(\"\")\n",
    "\n",
    "query_data[:2] #Выведем пару документов для примера"
   ]
  },
  {
   "cell_type": "markdown",
   "metadata": {
    "colab_type": "text",
    "id": "nLFq_6lBki3S"
   },
   "source": [
    "### Составим запросы к нашим документам"
   ]
  },
  {
   "cell_type": "code",
   "execution_count": 28,
   "metadata": {
    "colab": {},
    "colab_type": "code",
    "id": "h3sgHjWkjjR1",
    "ExecuteTime": {
     "end_time": "2023-05-21T20:37:48.325651200Z",
     "start_time": "2023-05-21T20:37:48.310024500Z"
    }
   },
   "outputs": [],
   "source": [
    "QUERIES = ['delta wings.', 'dissociated free stream.']"
   ]
  },
  {
   "cell_type": "markdown",
   "metadata": {
    "colab_type": "text",
    "id": "hQMdH0HSkoJg"
   },
   "source": [
    "## Boolean retrieval\n",
    "Представим каждый документ как \"битовую маску\": вектор размером со словарь, в котором на каждой позиции единица, если в документе есть соответсвующий терм, и ноль, если терма нет"
   ]
  },
  {
   "cell_type": "code",
   "execution_count": null,
   "metadata": {
    "colab": {},
    "colab_type": "code",
    "id": "lhrI18rZSLLz"
   },
   "outputs": [],
   "source": [
    "# в разных версиях ответы могут отличаться, поэтому важно иметь одну и ту же\n",
    "# ! pip install -q scikit-learn==0.22.2.post1"
   ]
  },
  {
   "cell_type": "code",
   "execution_count": 29,
   "metadata": {
    "colab": {
     "base_uri": "https://localhost:8080/",
     "height": 34
    },
    "colab_type": "code",
    "executionInfo": {
     "elapsed": 912,
     "status": "ok",
     "timestamp": 1586443705365,
     "user": {
      "displayName": "Дмитрий Волчек",
      "photoUrl": "https://lh3.googleusercontent.com/a-/AOh14GgN8jjHr8b6AlqmkI_BBSJH_qXpcmh3mgxKpBXd=s64",
      "userId": "12396512946067001179"
     },
     "user_tz": -180
    },
    "id": "DbTOdsHIknD0",
    "outputId": "79421614-b319-472d-a52c-c082ffb7e70e",
    "ExecuteTime": {
     "end_time": "2023-05-21T20:37:50.638874100Z",
     "start_time": "2023-05-21T20:37:50.620863900Z"
    }
   },
   "outputs": [
    {
     "data": {
      "text/plain": "['what', 'similarity', 'laws']"
     },
     "execution_count": 29,
     "metadata": {},
     "output_type": "execute_result"
    }
   ],
   "source": [
    "from  sklearn.feature_extraction.text import CountVectorizer\n",
    "\n",
    "encoder = CountVectorizer(binary=True)\n",
    "encoded_data = encoder.fit_transform(query_data)\n",
    "encoded_queries = encoder.transform(QUERIES)\n",
    "list(encoder.vocabulary_)[:3]"
   ]
  },
  {
   "cell_type": "markdown",
   "metadata": {
    "colab_type": "text",
    "id": "oUdwKDKSTjdD"
   },
   "source": [
    "Посмотрим на представление первого предложения"
   ]
  },
  {
   "cell_type": "code",
   "execution_count": 30,
   "metadata": {
    "colab": {
     "base_uri": "https://localhost:8080/",
     "height": 272
    },
    "colab_type": "code",
    "executionInfo": {
     "elapsed": 805,
     "status": "ok",
     "timestamp": 1586443719795,
     "user": {
      "displayName": "Дмитрий Волчек",
      "photoUrl": "https://lh3.googleusercontent.com/a-/AOh14GgN8jjHr8b6AlqmkI_BBSJH_qXpcmh3mgxKpBXd=s64",
      "userId": "12396512946067001179"
     },
     "user_tz": -180
    },
    "id": "oXEmXErylJdX",
    "outputId": "d8f41827-aa26-4587-a774-7385bd15cf13",
    "ExecuteTime": {
     "end_time": "2023-05-21T20:37:52.954143100Z",
     "start_time": "2023-05-21T20:37:52.922949100Z"
    }
   },
   "outputs": [
    {
     "data": {
      "text/plain": "['what',\n 'similarity',\n 'laws',\n 'must',\n 'be',\n 'obeyed',\n 'when',\n 'constructing',\n 'aeroelastic',\n 'models',\n 'of',\n 'heated',\n 'high',\n 'speed',\n 'aircraft']"
     },
     "execution_count": 30,
     "metadata": {},
     "output_type": "execute_result"
    }
   ],
   "source": [
    "id2term = {idx: term for term, idx in encoder.vocabulary_.items()}\n",
    "non_zero_values_ids = encoded_data[0].nonzero()[1]\n",
    "\n",
    "terms = [id2term[idx] for idx in non_zero_values_ids]\n",
    "terms"
   ]
  },
  {
   "cell_type": "markdown",
   "metadata": {
    "colab_type": "text",
    "id": "l8wdS9XiVwb2"
   },
   "source": [
    "Всё так.\n",
    "\n",
    "## Задание 0\n",
    "\n",
    "Теперь для каждого из данных запросов `QUERIES` найдём ближайший для него документ из `query_data` по сходству Жаккара. Есть более эффективные способы это сделать, но вам требуется реализовать расстояние Жаккара и далее применить его к нашим данным."
   ]
  },
  {
   "cell_type": "code",
   "execution_count": 35,
   "metadata": {
    "colab": {},
    "colab_type": "code",
    "id": "u31WuBYAUWt2",
    "ExecuteTime": {
     "end_time": "2023-05-21T21:03:01.471918800Z",
     "start_time": "2023-05-21T21:03:01.456295600Z"
    }
   },
   "outputs": [],
   "source": [
    "import numpy as np \n",
    "\n",
    "def jaccard_sim(vector_a: np.array, vector_b: np.array) -> float:\n",
    "  \"\"\"\n",
    "    Сходство или коэффициент Жаккара: отношение мощности пересечения\n",
    "    к мощности объединения\n",
    "  \"\"\"\n",
    "  return float(sum(vector_a & vector_b) / sum(vector_a | vector_b))\n",
    "\n",
    "#Проверка, что функция работает правильно\n",
    "assert jaccard_sim(np.array([1, 0, 1, 0, 1]), np.array([0, 1, 1, 1, 1])) == 0.4"
   ]
  },
  {
   "cell_type": "markdown",
   "metadata": {},
   "source": [
    "Здесь документы представлены так же, как строки в матрице термов-документов. Каждая ячейка вектора отвечает за наличие/отсутствие конкретного элемента (например, слова-терма, когда у нас в словаре всего 5 слов). В первом случае их три, во втором — четыре. Объединение — все пять возможных элементов. Пересечение — два. Отсюда и 0.4."
   ]
  },
  {
   "cell_type": "markdown",
   "metadata": {
    "colab_type": "text",
    "id": "dYfQksWrOR1G"
   },
   "source": [
    "## Задание 1\n",
    "Теперь с помощью кода ниже вычислите для каждого запроса самые близкие документы."
   ]
  },
  {
   "cell_type": "code",
   "execution_count": 36,
   "metadata": {
    "colab": {
     "base_uri": "https://localhost:8080/",
     "height": 207
    },
    "colab_type": "code",
    "executionInfo": {
     "elapsed": 830,
     "status": "ok",
     "timestamp": 1586443823267,
     "user": {
      "displayName": "Дмитрий Волчек",
      "photoUrl": "https://lh3.googleusercontent.com/a-/AOh14GgN8jjHr8b6AlqmkI_BBSJH_qXpcmh3mgxKpBXd=s64",
      "userId": "12396512946067001179"
     },
     "user_tz": -180
    },
    "id": "4okpFpA6OAQs",
    "outputId": "f08c69ca-de42-480a-c9a0-044135703a28",
    "ExecuteTime": {
     "end_time": "2023-05-21T21:03:12.728469100Z",
     "start_time": "2023-05-21T21:03:12.650341500Z"
    }
   },
   "outputs": [
    {
     "name": "stdout",
     "output_type": "stream",
     "text": [
      "Q: delta wings.\n",
      "FOUND:\n",
      "    29\t0.12\tpapers on flow visualization on slender conical wings . \n",
      "    28\t0.11\twhat is the effect of cross sectional shape on the flow over simple delta wings with sharp leading edges . \n",
      "    27\t0.09\twhat application has the linear theory design of curved wings . \n",
      "Q: dissociated free stream.\n",
      "FOUND:\n",
      "    73\t0.14\thow significant is the possible pressure of a dissociated free stream with respect to the realization of hypersonic simulation in high enthalpy wind tunnels . \n",
      "    157\t0.09\thave flow fields been calculated for blunt-nosed bodies and compared with experiment for a wide range of free stream conditions and body shapes . \n",
      "    32\t0.05\thow do interference-free longitudinal stability measurements (made using free-flight models) compare with similar measurements made in a low-blockage wind tunnel . \n"
     ]
    }
   ],
   "source": [
    "for q_id, query in enumerate(encoded_queries):\n",
    "  # приводим к нужному типу\n",
    "  query = query.todense().A1\n",
    "  docs = [doc.todense().A1 for doc in encoded_data]\n",
    "  # вычисляем коэфф. Жаккара\n",
    "  id2doc2similarity = [(doc_id, doc, jaccard_sim(query, doc)) for doc_id, doc in enumerate(docs)]\n",
    "  # сортируем по нему\n",
    "  closest = sorted(id2doc2similarity, key=lambda x: x[2], reverse=True)\n",
    "\n",
    "  print(\"Q: %s\\nFOUND:\" % QUERIES[q_id])\n",
    "  # выводим по 3 наиболее близких документа для каждого запроса\n",
    "  for closest_id, _, sim in closest[:3]:\n",
    "    print(\"    %d\\t%.2f\\t%s\" %(closest_id, sim, query_data[closest_id]))\n",
    "\n"
   ]
  },
  {
   "cell_type": "markdown",
   "metadata": {
    "colab_type": "text",
    "id": "A1Fh8RdvOrAD"
   },
   "source": [
    "Видим, что кое-где просачиваются  тексты, которых с запросами объединяют малозначительные термы, но при этом коэффициент Жаккара -- наша функция ранжирования! -- высок.\n",
    "\n",
    "# VSM\n",
    "\n",
    "Попробуем теперь сделать то же, но с tf-idf и косинусным расстоянием. Мы сделаем всё опять \"руками\", но \"в реальной жизни\" лучше использоватьесть эффективные реализации cosine distance, например, из библиотеки scipy."
   ]
  },
  {
   "cell_type": "code",
   "execution_count": 37,
   "metadata": {
    "colab": {
     "base_uri": "https://localhost:8080/",
     "height": 34
    },
    "colab_type": "code",
    "executionInfo": {
     "elapsed": 925,
     "status": "ok",
     "timestamp": 1586443962126,
     "user": {
      "displayName": "Дмитрий Волчек",
      "photoUrl": "https://lh3.googleusercontent.com/a-/AOh14GgN8jjHr8b6AlqmkI_BBSJH_qXpcmh3mgxKpBXd=s64",
      "userId": "12396512946067001179"
     },
     "user_tz": -180
    },
    "id": "DmpKMI08E2iO",
    "outputId": "957b4013-7b8f-431c-e6d1-697075fb207f",
    "ExecuteTime": {
     "end_time": "2023-05-21T21:03:22.343697700Z",
     "start_time": "2023-05-21T21:03:22.312418400Z"
    }
   },
   "outputs": [
    {
     "data": {
      "text/plain": "['what', 'similarity', 'laws']"
     },
     "execution_count": 37,
     "metadata": {},
     "output_type": "execute_result"
    }
   ],
   "source": [
    "from  sklearn.feature_extraction.text import TfidfVectorizer\n",
    "\n",
    "# Совет: обязательно разберитесь с тем, какие возможности\n",
    "# предоставляет tf-idf vectorizer, какие параметры за что отвечают\n",
    "\n",
    "tfidf_encoder = TfidfVectorizer()\n",
    "tfidf_encoded_data = tfidf_encoder.fit_transform(query_data)\n",
    "tfidf_encoded_queries = tfidf_encoder.transform(QUERIES)\n",
    "\n",
    "list(tfidf_encoder.vocabulary_)[:3]"
   ]
  },
  {
   "cell_type": "markdown",
   "metadata": {
    "colab_type": "text",
    "id": "hHTzIjfNRHj2"
   },
   "source": [
    "## Задание 2\n",
    "Реализовать косинусное расстояние"
   ]
  },
  {
   "cell_type": "code",
   "execution_count": 34,
   "metadata": {
    "colab": {},
    "colab_type": "code",
    "id": "UCfgR6xEPeDn",
    "ExecuteTime": {
     "end_time": "2023-05-21T20:38:05.244825400Z",
     "start_time": "2023-05-21T20:38:05.229200800Z"
    }
   },
   "outputs": [],
   "source": [
    "import numpy as np \n",
    "\n",
    "def cosine_distance(vector_a: np.array, vector_b: np.array) -> float:\n",
    "  \"\"\"\n",
    "    Косинусное расстояние: единица минус отношение скалярного произведения\n",
    "    на произведение L2-норм (подсказка: в numpy такие нормы есть)\n",
    "  \"\"\"\n",
    "  # ваш код здесь\n",
    "\n",
    "  scalar_prod = np.dot(vector_a, vector_b)\n",
    "  vector_a_L2 = np.linalg.norm(vector_a, 2)\n",
    "  vector_b_L2 = np.linalg.norm(vector_b, 2)\n",
    "  return  1-scalar_prod/(vector_a_L2*vector_b_L2)\n",
    "#Проверка, что функция работает правильно\n",
    "assert cosine_distance(np.array([1, 0, 1, 1, 1]), np.array([0, 0, 1, 0, 0])) == 0.5"
   ]
  },
  {
   "cell_type": "markdown",
   "metadata": {
    "colab_type": "text",
    "id": "vJHsaHoORlEC"
   },
   "source": [
    "\n",
    "Теперь вычислим ближайшие по косинусному расстоянию между векторными представлениями документов и запросов"
   ]
  },
  {
   "cell_type": "code",
   "execution_count": 26,
   "metadata": {
    "colab": {
     "base_uri": "https://localhost:8080/",
     "height": 275
    },
    "colab_type": "code",
    "executionInfo": {
     "elapsed": 742,
     "status": "ok",
     "timestamp": 1586444002708,
     "user": {
      "displayName": "Дмитрий Волчек",
      "photoUrl": "https://lh3.googleusercontent.com/a-/AOh14GgN8jjHr8b6AlqmkI_BBSJH_qXpcmh3mgxKpBXd=s64",
      "userId": "12396512946067001179"
     },
     "user_tz": -180
    },
    "id": "fIZJRBKQQR1G",
    "outputId": "6515e3a4-b4eb-4943-f1e0-26f9fec648d3",
    "ExecuteTime": {
     "end_time": "2023-05-21T20:25:53.157404900Z",
     "start_time": "2023-05-21T20:25:53.126148Z"
    }
   },
   "outputs": [
    {
     "name": "stdout",
     "output_type": "stream",
     "text": [
      "Q: delta wings.\n",
      "FOUND:\n",
      "    28\t0.60\twhat is the effect of cross sectional shape on the flow over simple delta wings with sharp leading edges . \n",
      "    29\t0.74\tpapers on flow visualization on slender conical wings . \n",
      "    27\t0.77\twhat application has the linear theory design of curved wings . \n",
      "Q: dissociated free stream.\n",
      "FOUND:\n",
      "    73\t0.55\thow significant is the possible pressure of a dissociated free stream with respect to the realization of hypersonic simulation in high enthalpy wind tunnels . \n",
      "    157\t0.75\thave flow fields been calculated for blunt-nosed bodies and compared with experiment for a wide range of free stream conditions and body shapes . \n",
      "    171\t0.80\thas a comparison been made between interference-free drag measurements using free-flight models and similar measurements made in a low-blockage wind tunnel . \n"
     ]
    },
    {
     "name": "stderr",
     "output_type": "stream",
     "text": [
      "C:\\Users\\mikhail.komarov\\AppData\\Local\\Temp\\ipykernel_14820\\645080490.py:13: RuntimeWarning: invalid value encountered in double_scalars\n",
      "  return  1-scalar_prod/(vector_a_L2*vector_b_L2)\n"
     ]
    }
   ],
   "source": [
    "for q_id, query in enumerate(tfidf_encoded_queries):\n",
    "  \n",
    "  # приводим к нужному типу\n",
    "  query = query.todense().A1\n",
    "  docs = [doc.todense().A1 for doc in tfidf_encoded_data]\n",
    "  # Косинусное расстояние\n",
    "  id2doc2similarity = [(doc_id, doc, cosine_distance(query, doc)) \\\n",
    "                       for doc_id, doc in enumerate(docs)]\n",
    "  # сортируем по нему\n",
    "  closest = sorted(id2doc2similarity, key=lambda x: x[2], reverse=False)\n",
    "  \n",
    "  print(\"Q: %s\\nFOUND:\" % QUERIES[q_id])\n",
    "  \n",
    "  for closest_id, _, sim in closest[:3]:\n",
    "    print(\"    %d\\t%.2f\\t%s\" %(closest_id, sim, query_data[closest_id]))"
   ]
  },
  {
   "cell_type": "code",
   "execution_count": null,
   "outputs": [],
   "source": [],
   "metadata": {
    "collapsed": false
   }
  }
 ],
 "metadata": {
  "colab": {
   "collapsed_sections": [],
   "name": "5_2_Programming_students.ipynb",
   "provenance": []
  },
  "kernelspec": {
   "display_name": "Python 3",
   "language": "python",
   "name": "python3"
  },
  "language_info": {
   "codemirror_mode": {
    "name": "ipython",
    "version": 3
   },
   "file_extension": ".py",
   "mimetype": "text/x-python",
   "name": "python",
   "nbconvert_exporter": "python",
   "pygments_lexer": "ipython3",
   "version": "3.7.6"
  }
 },
 "nbformat": 4,
 "nbformat_minor": 4
}
