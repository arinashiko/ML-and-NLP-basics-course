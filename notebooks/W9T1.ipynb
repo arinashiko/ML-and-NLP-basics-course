{
 "cells": [
  {
   "cell_type": "markdown",
   "metadata": {
    "colab_type": "text",
    "id": "yLYpSPDlW9LC"
   },
   "source": [
    "## Скачиваем необходимое\n",
    "\n",
    "Сначала нужно средствами NLTK загрузить WordNet.\n",
    "\n"
   ]
  },
  {
   "cell_type": "code",
   "execution_count": 2,
   "metadata": {
    "colab": {
     "base_uri": "https://localhost:8080/",
     "height": 73
    },
    "colab_type": "code",
    "executionInfo": {
     "elapsed": 3804,
     "status": "ok",
     "timestamp": 1600020035301,
     "user": {
      "displayName": "Anton Alekseev",
      "photoUrl": "https://lh3.googleusercontent.com/a-/AOh14Gj3c5faIb1FbtmpoOW4fAhquuPiaBf1d85jPrZJ-g=s64",
      "userId": "02913249699061138905"
     },
     "user_tz": -180
    },
    "id": "YhTQ6EFXZ5R9",
    "outputId": "b9e976e9-2692-457d-b0ff-866869787d67",
    "ExecuteTime": {
     "start_time": "2023-05-25T22:27:29.058994Z",
     "end_time": "2023-05-25T22:27:29.088557Z"
    }
   },
   "outputs": [
    {
     "name": "stderr",
     "output_type": "stream",
     "text": [
      "[nltk_data] Downloading package wordnet to\n",
      "[nltk_data]     C:\\Users\\arbyz\\AppData\\Roaming\\nltk_data...\n",
      "[nltk_data]   Package wordnet is already up-to-date!\n"
     ]
    },
    {
     "data": {
      "text/plain": "True"
     },
     "execution_count": 2,
     "metadata": {},
     "output_type": "execute_result"
    }
   ],
   "source": [
    "import nltk\n",
    "from nltk.corpus import wordnet as wn\n",
    "nltk.download('wordnet')"
   ]
  },
  {
   "cell_type": "markdown",
   "metadata": {
    "colab_type": "text",
    "id": "EIQ4rEytvwLZ"
   },
   "source": [
    "## Готовим данные к работе\n",
    "\n",
    "Затем импортируем данные из подготовленного текстового файла. Файл содержит набор пар слов (только имён существительных), для которых известны экспертные оценки сходства.\n",
    "\n",
    "Строим ассоциативный массив \"пара слов -- оценка близости\"."
   ]
  },
  {
   "cell_type": "code",
   "execution_count": 3,
   "metadata": {
    "colab": {},
    "colab_type": "code",
    "executionInfo": {
     "elapsed": 2212,
     "status": "ok",
     "timestamp": 1600020038741,
     "user": {
      "displayName": "Anton Alekseev",
      "photoUrl": "https://lh3.googleusercontent.com/a-/AOh14Gj3c5faIb1FbtmpoOW4fAhquuPiaBf1d85jPrZJ-g=s64",
      "userId": "02913249699061138905"
     },
     "user_tz": -180
    },
    "id": "_sTFACx3dAk8",
    "ExecuteTime": {
     "start_time": "2023-05-25T22:27:31.322897Z",
     "end_time": "2023-05-25T22:27:31.341051Z"
    }
   },
   "outputs": [],
   "source": [
    "with open(\"../data/W9T1/Task_4_sample_4.csv\", encoding=\"utf-8\") as rf:\n",
    "  triples = []\n",
    "  for line in rf.readlines()[1:]:\n",
    "    triples.append(line.strip().split(\",\"))\n",
    "  score_map = {tuple(triple[:2]): float(triple[2]) for triple in triples}"
   ]
  },
  {
   "cell_type": "code",
   "execution_count": 4,
   "outputs": [
    {
     "data": {
      "text/plain": "{('professor', 'cucumber'): 0.31,\n ('monk', 'slave'): 0.92,\n ('psychology', 'discipline'): 5.58,\n ('life', 'death'): 7.88,\n ('announcement', 'production'): 3.38,\n ('word', 'similarity'): 4.75,\n ('drink', 'car'): 3.04,\n ('precedent', 'group'): 1.77,\n ('tiger', 'cat'): 7.35,\n ('situation', 'isolation'): 3.88,\n ('dividend', 'payment'): 7.63,\n ('bird', 'cock'): 7.1,\n ('announcement', 'news'): 7.56,\n ('century', 'nation'): 3.16,\n ('cemetery', 'woodland'): 2.08,\n ('cup', 'article'): 2.4,\n ('fuck', 'sex'): 9.44,\n ('street', 'block'): 6.88,\n ('tiger', 'mammal'): 6.85,\n ('peace', 'insurance'): 2.94,\n ('smart', 'student'): 4.62,\n ('seafood', 'lobster'): 8.7,\n ('Harvard', 'Yale'): 8.13,\n ('architecture', 'century'): 3.78,\n ('peace', 'plan'): 4.75,\n ('stock', 'phone'): 1.62,\n ('president', 'medal'): 3.0,\n ('money', 'cash'): 9.15,\n ('morality', 'importance'): 3.31,\n ('Japanese', 'American'): 6.5,\n ('Arafat', 'Jackson'): 2.5,\n ('month', 'hotel'): 1.81,\n ('life', 'term'): 4.5,\n ('money', 'dollar'): 8.42,\n ('smart', 'stupid'): 5.81,\n ('lad', 'brother'): 4.46,\n ('furnace', 'stove'): 8.79,\n ('tiger', 'jaguar'): 8.0,\n ('coast', 'forest'): 3.15,\n ('man', 'woman'): 8.3,\n ('vodka', 'brandy'): 8.13,\n ('forest', 'graveyard'): 1.85,\n ('drink', 'ear'): 1.31,\n ('doctor', 'personnel'): 5.0,\n ('theater', 'history'): 3.91,\n ('bishop', 'rabbi'): 6.69,\n ('car', 'flight'): 4.94,\n ('stock', 'life'): 0.92,\n ('money', 'currency'): 9.04,\n ('ministry', 'culture'): 4.69,\n ('dollar', 'buck'): 9.22,\n ('start', 'year'): 4.06,\n ('focus', 'life'): 4.06,\n ('street', 'place'): 6.44,\n ('cup', 'entity'): 2.15,\n ('century', 'year'): 7.59,\n ('image', 'surface'): 4.56,\n ('cup', 'artifact'): 2.92,\n ('chord', 'smile'): 0.54,\n ('mile', 'kilometer'): 8.66,\n ('listing', 'proximity'): 2.56,\n ('deployment', 'departure'): 4.25,\n ('man', 'governor'): 5.25,\n ('jaguar', 'car'): 7.27,\n ('glass', 'metal'): 5.56,\n ('food', 'fruit'): 7.52,\n ('direction', 'combination'): 2.25,\n ('bread', 'butter'): 6.19,\n ('profit', 'loss'): 7.63,\n ('production', 'hike'): 1.75,\n ('football', 'soccer'): 9.03,\n ('consumer', 'energy'): 4.75,\n ('midday', 'noon'): 9.29,\n ('school', 'center'): 3.44,\n ('possibility', 'girl'): 1.94,\n ('practice', 'institution'): 3.19,\n ('media', 'radio'): 7.42,\n ('magician', 'wizard'): 9.02,\n ('liquid', 'water'): 7.89,\n ('consumer', 'confidence'): 4.13,\n ('king', 'rook'): 5.92,\n ('boy', 'lad'): 8.83,\n ('car', 'automobile'): 8.94,\n ('precedent', 'collection'): 2.5,\n ('tiger', 'feline'): 8.0,\n ('shore', 'woodland'): 3.08,\n ('delay', 'racism'): 1.19,\n ('shower', 'thunderstorm'): 6.31,\n ('morality', 'marriage'): 3.69,\n ('journey', 'voyage'): 9.29,\n ('jaguar', 'cat'): 7.42,\n ('media', 'gain'): 2.88,\n ('street', 'children'): 4.94,\n ('psychology', 'psychiatry'): 8.08,\n ('stock', 'CD'): 1.31,\n ('lobster', 'wine'): 5.7,\n ('physics', 'chemistry'): 7.35,\n ('marathon', 'sprint'): 7.47,\n ('wood', 'forest'): 7.73,\n ('cup', 'tableware'): 6.85,\n ('cucumber', 'potato'): 5.92,\n ('coast', 'hill'): 4.38,\n ('travel', 'activity'): 5.0,\n ('murder', 'manslaughter'): 8.53,\n ('gem', 'jewel'): 8.96,\n ('dollar', 'yen'): 7.78,\n ('sugar', 'approach'): 0.88,\n ('planet', 'star'): 8.45,\n ('asylum', 'madhouse'): 8.87,\n ('calculation', 'computation'): 8.44,\n ('cell', 'phone'): 7.81,\n ('professor', 'doctor'): 6.62,\n ('seafood', 'food'): 8.34,\n ('television', 'radio'): 6.77,\n ('delay', 'news'): 3.31,\n ('championship', 'tournament'): 8.36,\n ('noon', 'string'): 0.54,\n ('doctor', 'nurse'): 7.0,\n ('rock', 'jazz'): 7.59,\n ('viewer', 'serial'): 2.97,\n ('volunteer', 'motto'): 2.56,\n ('experience', 'music'): 3.47,\n ('Mexico', 'Brazil'): 7.44,\n ('tiger', 'tiger'): 10.0,\n ('aluminum', 'metal'): 7.83,\n ('report', 'gain'): 3.63,\n ('attempt', 'peace'): 4.25,\n ('chance', 'credibility'): 3.88,\n ('street', 'avenue'): 8.88,\n ('announcement', 'effort'): 2.75,\n ('Mars', 'water'): 2.94,\n ('monk', 'oracle'): 5.0,\n ('cup', 'substance'): 1.92,\n ('student', 'professor'): 6.81,\n ('football', 'tennis'): 6.63,\n ('train', 'car'): 6.31,\n ('food', 'rooster'): 4.42,\n ('rooster', 'voyage'): 0.62,\n ('crane', 'implement'): 2.69,\n ('problem', 'airport'): 2.38,\n ('development', 'issue'): 3.97,\n ('tiger', 'organism'): 4.77,\n ('king', 'queen'): 8.58,\n ('profit', 'warning'): 3.88,\n ('type', 'kind'): 8.97,\n ('energy', 'secretary'): 1.81,\n ('planet', 'moon'): 8.08,\n ('lobster', 'food'): 7.81,\n ('precedent', 'information'): 3.85,\n ('benchmark', 'index'): 4.25}"
     },
     "execution_count": 4,
     "metadata": {},
     "output_type": "execute_result"
    }
   ],
   "source": [
    "score_map"
   ],
   "metadata": {
    "collapsed": false,
    "ExecuteTime": {
     "start_time": "2023-05-25T22:27:32.123037Z",
     "end_time": "2023-05-25T22:27:32.189363Z"
    }
   }
  },
  {
   "cell_type": "markdown",
   "metadata": {},
   "source": [
    "Отметим, что из исходного набора данных мы взяли только экспертные оценки сходства (similarity) и только для существительных. Исходный набор данных доступен по [ссылке](http://alfonseca.org/pubs/ws353simrel.tar.gz)"
   ]
  },
  {
   "cell_type": "markdown",
   "metadata": {
    "colab_type": "text",
    "id": "96B0OtKrvtaG"
   },
   "source": [
    "Посмотрим на примеры оценок. \n",
    "\n",
    "У слов может быть по несколько значений, которые различаются в WordNet. Здесь -- ради примера -- мы будем \"жадно\" выбирать первое попавшееся, но далее будем работать с ними иначе.\n",
    "\n",
    "\n"
   ]
  },
  {
   "cell_type": "code",
   "execution_count": 5,
   "metadata": {
    "colab": {
     "base_uri": "https://localhost:8080/",
     "height": 166
    },
    "colab_type": "code",
    "executionInfo": {
     "elapsed": 10602,
     "status": "ok",
     "timestamp": 1600020204121,
     "user": {
      "displayName": "Anton Alekseev",
      "photoUrl": "https://lh3.googleusercontent.com/a-/AOh14Gj3c5faIb1FbtmpoOW4fAhquuPiaBf1d85jPrZJ-g=s64",
      "userId": "02913249699061138905"
     },
     "user_tz": -180
    },
    "id": "7iXamIiZgf-O",
    "outputId": "c5b3c7ea-c476-4235-f474-b1358c584ddf",
    "ExecuteTime": {
     "start_time": "2023-05-25T22:27:37.866914Z",
     "end_time": "2023-05-25T22:27:46.591046Z"
    }
   },
   "outputs": [
    {
     "name": "stdout",
     "output_type": "stream",
     "text": [
      "\n",
      "Words: professor-cucumber\n",
      "Ground truth score: 0.31\n",
      "\n",
      "Path: 0.077 \n",
      "wup: 0.500 \n",
      "lch: 1.073 \n",
      "shortest_path: 12.000\n",
      "\n",
      "Words: monk-slave\n",
      "Ground truth score: 0.92\n",
      "\n",
      "Path: 0.200 \n",
      "wup: 0.667 \n",
      "lch: 2.028 \n",
      "shortest_path: 4.000\n",
      "\n",
      "Words: psychology-discipline\n",
      "Ground truth score: 5.58\n",
      "\n",
      "Path: 0.333 \n",
      "wup: 0.875 \n",
      "lch: 2.539 \n",
      "shortest_path: 2.000\n"
     ]
    }
   ],
   "source": [
    "for w1, w2 in list(score_map)[:3]:\n",
    "  \n",
    "  print(\"\\nWords: %s-%s\\nGround truth score: %.2f\" % (w1, w2, score_map[(w1, w2)]))\n",
    "  \n",
    "  ss1 = wn.synset(w1 + \".n.01\")\n",
    "  ss2 = wn.synset(w2 + \".n.01\")\n",
    "\n",
    "  print(\"\\nPath: %.3f\" % ss1.path_similarity(ss2), end=\" \")\n",
    "  print(\"\\nwup: %.3f\" % ss1.wup_similarity(ss2), end=\" \")\n",
    "  print(\"\\nlch: %.3f\" % ss1.lch_similarity(ss2), end=\" \")\n",
    "  print(\"\\nshortest_path: %.3f\" % ss1.shortest_path_distance(ss2))"
   ]
  },
  {
   "cell_type": "markdown",
   "metadata": {
    "colab_type": "text",
    "id": "ZHM7tCb0vqNp"
   },
   "source": [
    "Вычисляем для всех пар несколько оценок"
   ]
  },
  {
   "cell_type": "code",
   "execution_count": 7,
   "metadata": {
    "colab": {
     "base_uri": "https://localhost:8080/",
     "height": 54
    },
    "colab_type": "code",
    "executionInfo": {
     "elapsed": 2405,
     "status": "ok",
     "timestamp": 1600020239260,
     "user": {
      "displayName": "Anton Alekseev",
      "photoUrl": "https://lh3.googleusercontent.com/a-/AOh14Gj3c5faIb1FbtmpoOW4fAhquuPiaBf1d85jPrZJ-g=s64",
      "userId": "02913249699061138905"
     },
     "user_tz": -180
    },
    "id": "fe7Nuglqgnd3",
    "outputId": "1ffb3b01-d567-49d8-8e67-0849fac19aac",
    "ExecuteTime": {
     "start_time": "2023-05-25T22:28:31.090901Z",
     "end_time": "2023-05-25T22:28:32.989705Z"
    }
   },
   "outputs": [],
   "source": [
    "from itertools import product\n",
    "\n",
    "list_pairs = list(score_map)\n",
    "wup_list, true_list, path_list, lch_list = [], [], [], []\n",
    "\n",
    "# для всех пар\n",
    "for w1, w2 in list_pairs:\n",
    "\n",
    "  try:\n",
    "    all_w1 = wn.synsets(w1, pos=\"n\")\n",
    "    all_w2 = wn.synsets(w2, pos=\"n\")\n",
    "\n",
    "    # добавляем интересующие нас метрики и экспертные оценки\n",
    "    wup = max([item1.wup_similarity(item2) \\\n",
    "                for item1, item2 in product(all_w1, all_w2)])\n",
    "    wup_list.append(wup)\n",
    "\n",
    "    path = max([item1.path_similarity(item2) \\\n",
    "                for item1, item2 in product(all_w1, all_w2)])\n",
    "    path_list.append(path)\n",
    "\n",
    "    lch = max([item1.lch_similarity(item2) \\\n",
    "                for item1, item2 in product(all_w1, all_w2)])\n",
    "    lch_list.append(lch)\n",
    "\n",
    "    true_list.append(score_map[(w1, w2)])\n",
    "\n",
    "  except Exception as e:\n",
    "    print(w1, w2, \"error:\", e)"
   ]
  },
  {
   "cell_type": "markdown",
   "metadata": {
    "colab_type": "text",
    "id": "oAjuTLB0fD-I"
   },
   "source": [
    "## Вычисляем ранговую корреляцию Спирмена"
   ]
  },
  {
   "cell_type": "code",
   "execution_count": 15,
   "metadata": {
    "colab": {
     "base_uri": "https://localhost:8080/",
     "height": 73
    },
    "colab_type": "code",
    "executionInfo": {
     "elapsed": 896,
     "status": "ok",
     "timestamp": 1600020271203,
     "user": {
      "displayName": "Anton Alekseev",
      "photoUrl": "https://lh3.googleusercontent.com/a-/AOh14Gj3c5faIb1FbtmpoOW4fAhquuPiaBf1d85jPrZJ-g=s64",
      "userId": "02913249699061138905"
     },
     "user_tz": -180
    },
    "id": "fXnCdw8wxcVd",
    "outputId": "c9e2b06c-5a27-45e8-a400-36113a3d7516",
    "ExecuteTime": {
     "start_time": "2023-05-25T22:32:06.243375Z",
     "end_time": "2023-05-25T22:32:06.263374Z"
    }
   },
   "outputs": [
    {
     "name": "stdout",
     "output_type": "stream",
     "text": [
      "wup  Spearman R: 0.6936\n",
      "path Spearman R: 0.6535\n",
      "lch Spearman R: 0.6535\n"
     ]
    }
   ],
   "source": [
    "from scipy.stats import spearmanr\n",
    "\n",
    "coef, p = spearmanr(wup_list, true_list)\n",
    "print(\"wup  Spearman R: %.4f\" % coef)\n",
    "\n",
    "coef, p = spearmanr(path_list, true_list)\n",
    "print(\"path Spearman R: %.4f\" % coef)\n",
    "\n",
    "coef, p = spearmanr(lch_list, true_list)\n",
    "print(\"lch Spearman R: %.4f\" % coef)\n"
   ]
  },
  {
   "cell_type": "code",
   "execution_count": 28,
   "outputs": [
    {
     "data": {
      "text/plain": "91"
     },
     "execution_count": 28,
     "metadata": {},
     "output_type": "execute_result"
    }
   ],
   "source": [
    "syn = wn.synset('wood.n.01')\n",
    "len(syn.hyponyms())"
   ],
   "metadata": {
    "collapsed": false,
    "ExecuteTime": {
     "start_time": "2023-05-25T22:54:25.058051Z",
     "end_time": "2023-05-25T22:54:25.068085Z"
    }
   }
  },
  {
   "cell_type": "code",
   "execution_count": 30,
   "outputs": [
    {
     "data": {
      "text/plain": "Synset('alder.n.01')"
     },
     "execution_count": 30,
     "metadata": {},
     "output_type": "execute_result"
    }
   ],
   "source": [
    "syn.hyponyms()[0]"
   ],
   "metadata": {
    "collapsed": false,
    "ExecuteTime": {
     "start_time": "2023-05-25T22:54:56.168593Z",
     "end_time": "2023-05-25T22:54:56.188593Z"
    }
   }
  },
  {
   "cell_type": "code",
   "execution_count": null,
   "outputs": [],
   "source": [],
   "metadata": {
    "collapsed": false
   }
  }
 ],
 "metadata": {
  "colab": {
   "authorship_tag": "ABX9TyMdSweN9al2eyjg9hAVK+U1",
   "collapsed_sections": [],
   "name": "04_лексические ресурсы.ipynb",
   "provenance": []
  },
  "kernelspec": {
   "display_name": "Python 3",
   "language": "python",
   "name": "python3"
  },
  "language_info": {
   "codemirror_mode": {
    "name": "ipython",
    "version": 3
   },
   "file_extension": ".py",
   "mimetype": "text/x-python",
   "name": "python",
   "nbconvert_exporter": "python",
   "pygments_lexer": "ipython3",
   "version": "3.7.6"
  }
 },
 "nbformat": 4,
 "nbformat_minor": 4
}
