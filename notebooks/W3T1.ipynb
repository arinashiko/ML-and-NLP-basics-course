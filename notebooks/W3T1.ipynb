{
 "nbformat": 4,
 "nbformat_minor": 0,
 "metadata": {
  "colab": {
   "provenance": [],
   "mount_file_id": "19EhEo2Oa24FtKV8ERdqI75xbuDzbL__c",
   "authorship_tag": "ABX9TyNWaiLhByONH12cCRdDSr0n"
  },
  "kernelspec": {
   "name": "python3",
   "language": "python",
   "display_name": "Python 3 (ipykernel)"
  },
  "language_info": {
   "name": "python"
  }
 },
 "cells": [
  {
   "cell_type": "code",
   "execution_count": 13,
   "outputs": [],
   "source": [
    "import os\n",
    "import numpy as np\n",
    "import pandas as pd\n",
    "import matplotlib.pyplot as plt\n",
    "import seaborn as sns\n",
    "import cv2\n",
    "\n",
    "from sklearn.model_selection import train_test_split"
   ],
   "metadata": {
    "collapsed": false,
    "ExecuteTime": {
     "end_time": "2023-05-12T20:56:10.442288800Z",
     "start_time": "2023-05-12T20:56:09.808850300Z"
    }
   }
  },
  {
   "cell_type": "code",
   "execution_count": null,
   "outputs": [],
   "source": [
    "# uncomment when run notebook in Google Colab\n",
    "# from google.colab import drive\n",
    "# drive.mount('/content/drive')"
   ],
   "metadata": {
    "collapsed": false
   }
  },
  {
   "cell_type": "code",
   "execution_count": 5,
   "outputs": [
    {
     "data": {
      "text/plain": "     Pregnancies  Glucose  BloodPressure  SkinThickness  Insulin   BMI   \n0              6      148             72             35        0  33.6  \\\n1              1       85             66             29        0  26.6   \n2              8      183             64              0        0  23.3   \n3              1       89             66             23       94  28.1   \n4              0      137             40             35      168  43.1   \n..           ...      ...            ...            ...      ...   ...   \n615            3      106             72              0        0  25.8   \n616            6      117             96              0        0  28.7   \n617            2       68             62             13       15  20.1   \n618            9      112             82             24        0  28.2   \n619            0      119              0              0        0  32.4   \n\n     DiabetesPedigreeFunction  Age  Outcome  \n0                       0.627   50        1  \n1                       0.351   31        0  \n2                       0.672   32        1  \n3                       0.167   21        0  \n4                       2.288   33        1  \n..                        ...  ...      ...  \n615                     0.207   27        0  \n616                     0.157   30        0  \n617                     0.257   23        0  \n618                     1.282   50        1  \n619                     0.141   24        1  \n\n[620 rows x 9 columns]",
      "text/html": "<div>\n<style scoped>\n    .dataframe tbody tr th:only-of-type {\n        vertical-align: middle;\n    }\n\n    .dataframe tbody tr th {\n        vertical-align: top;\n    }\n\n    .dataframe thead th {\n        text-align: right;\n    }\n</style>\n<table border=\"1\" class=\"dataframe\">\n  <thead>\n    <tr style=\"text-align: right;\">\n      <th></th>\n      <th>Pregnancies</th>\n      <th>Glucose</th>\n      <th>BloodPressure</th>\n      <th>SkinThickness</th>\n      <th>Insulin</th>\n      <th>BMI</th>\n      <th>DiabetesPedigreeFunction</th>\n      <th>Age</th>\n      <th>Outcome</th>\n    </tr>\n  </thead>\n  <tbody>\n    <tr>\n      <th>0</th>\n      <td>6</td>\n      <td>148</td>\n      <td>72</td>\n      <td>35</td>\n      <td>0</td>\n      <td>33.6</td>\n      <td>0.627</td>\n      <td>50</td>\n      <td>1</td>\n    </tr>\n    <tr>\n      <th>1</th>\n      <td>1</td>\n      <td>85</td>\n      <td>66</td>\n      <td>29</td>\n      <td>0</td>\n      <td>26.6</td>\n      <td>0.351</td>\n      <td>31</td>\n      <td>0</td>\n    </tr>\n    <tr>\n      <th>2</th>\n      <td>8</td>\n      <td>183</td>\n      <td>64</td>\n      <td>0</td>\n      <td>0</td>\n      <td>23.3</td>\n      <td>0.672</td>\n      <td>32</td>\n      <td>1</td>\n    </tr>\n    <tr>\n      <th>3</th>\n      <td>1</td>\n      <td>89</td>\n      <td>66</td>\n      <td>23</td>\n      <td>94</td>\n      <td>28.1</td>\n      <td>0.167</td>\n      <td>21</td>\n      <td>0</td>\n    </tr>\n    <tr>\n      <th>4</th>\n      <td>0</td>\n      <td>137</td>\n      <td>40</td>\n      <td>35</td>\n      <td>168</td>\n      <td>43.1</td>\n      <td>2.288</td>\n      <td>33</td>\n      <td>1</td>\n    </tr>\n    <tr>\n      <th>...</th>\n      <td>...</td>\n      <td>...</td>\n      <td>...</td>\n      <td>...</td>\n      <td>...</td>\n      <td>...</td>\n      <td>...</td>\n      <td>...</td>\n      <td>...</td>\n    </tr>\n    <tr>\n      <th>615</th>\n      <td>3</td>\n      <td>106</td>\n      <td>72</td>\n      <td>0</td>\n      <td>0</td>\n      <td>25.8</td>\n      <td>0.207</td>\n      <td>27</td>\n      <td>0</td>\n    </tr>\n    <tr>\n      <th>616</th>\n      <td>6</td>\n      <td>117</td>\n      <td>96</td>\n      <td>0</td>\n      <td>0</td>\n      <td>28.7</td>\n      <td>0.157</td>\n      <td>30</td>\n      <td>0</td>\n    </tr>\n    <tr>\n      <th>617</th>\n      <td>2</td>\n      <td>68</td>\n      <td>62</td>\n      <td>13</td>\n      <td>15</td>\n      <td>20.1</td>\n      <td>0.257</td>\n      <td>23</td>\n      <td>0</td>\n    </tr>\n    <tr>\n      <th>618</th>\n      <td>9</td>\n      <td>112</td>\n      <td>82</td>\n      <td>24</td>\n      <td>0</td>\n      <td>28.2</td>\n      <td>1.282</td>\n      <td>50</td>\n      <td>1</td>\n    </tr>\n    <tr>\n      <th>619</th>\n      <td>0</td>\n      <td>119</td>\n      <td>0</td>\n      <td>0</td>\n      <td>0</td>\n      <td>32.4</td>\n      <td>0.141</td>\n      <td>24</td>\n      <td>1</td>\n    </tr>\n  </tbody>\n</table>\n<p>620 rows × 9 columns</p>\n</div>"
     },
     "execution_count": 5,
     "metadata": {},
     "output_type": "execute_result"
    }
   ],
   "source": [
    "ds = pd.read_csv('../data/W3T1/diabetes.csv', nrows=620)\n",
    "\n",
    "ds"
   ],
   "metadata": {
    "collapsed": false,
    "ExecuteTime": {
     "end_time": "2023-05-12T20:47:41.868362Z",
     "start_time": "2023-05-12T20:47:41.842371600Z"
    }
   }
  },
  {
   "cell_type": "code",
   "execution_count": 12,
   "outputs": [
    {
     "data": {
      "text/plain": "404"
     },
     "execution_count": 12,
     "metadata": {},
     "output_type": "execute_result"
    }
   ],
   "source": [
    "# get Outcome is 0 count\n",
    "\n",
    "len(list(filter(lambda x: x == 0, ds.Outcome)))"
   ],
   "metadata": {
    "collapsed": false,
    "ExecuteTime": {
     "end_time": "2023-05-12T20:52:51.914228300Z",
     "start_time": "2023-05-12T20:52:51.882942100Z"
    }
   }
  },
  {
   "cell_type": "code",
   "execution_count": 17,
   "outputs": [],
   "source": [
    "xtrain, xtest, ytrain, ytest = train_test_split(ds.drop(columns=['Outcome']), ds.Outcome, test_size=0.20, train_size=0.80, shuffle=False)"
   ],
   "metadata": {
    "collapsed": false,
    "ExecuteTime": {
     "end_time": "2023-05-12T21:13:08.135361400Z",
     "start_time": "2023-05-12T21:13:08.119734100Z"
    }
   }
  },
  {
   "cell_type": "code",
   "execution_count": null,
   "outputs": [],
   "source": [],
   "metadata": {
    "collapsed": false
   }
  }
 ]
}
