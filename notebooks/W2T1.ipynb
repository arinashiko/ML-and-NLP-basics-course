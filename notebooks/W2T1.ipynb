{
 "nbformat": 4,
 "nbformat_minor": 0,
 "metadata": {
  "colab": {
   "provenance": [],
   "mount_file_id": "19EhEo2Oa24FtKV8ERdqI75xbuDzbL__c",
   "authorship_tag": "ABX9TyNWaiLhByONH12cCRdDSr0n"
  },
  "kernelspec": {
   "name": "python3",
   "language": "python",
   "display_name": "Python 3 (ipykernel)"
  },
  "language_info": {
   "name": "python"
  }
 },
 "cells": [
  {
   "cell_type": "code",
   "execution_count": 1,
   "outputs": [],
   "source": [
    "import os\n",
    "import numpy as np\n",
    "import pandas as pd\n",
    "import matplotlib.pyplot as plt\n",
    "import seaborn as sns\n",
    "import cv2\n",
    "\n",
    "from sklearn.svm import LinearSVC\n",
    "from sklearn.model_selection import train_test_split"
   ],
   "metadata": {
    "collapsed": false,
    "ExecuteTime": {
     "end_time": "2023-05-12T07:18:25.958785400Z",
     "start_time": "2023-05-12T07:18:24.464840800Z"
    }
   }
  },
  {
   "cell_type": "code",
   "execution_count": null,
   "outputs": [],
   "source": [
    "# uncomment when run notebook in Google Colab\n",
    "# from google.colab import drive\n",
    "# drive.mount('/content/drive')"
   ],
   "metadata": {
    "collapsed": false
   }
  },
  {
   "cell_type": "code",
   "execution_count": 3,
   "outputs": [],
   "source": [
    "def extract_histogram(image, bins=(8, 8, 8)):\n",
    "    hist = cv2.calcHist([image], [0, 1, 2], None, bins, [0, 256, 0, 256, 0, 256])\n",
    "    cv2.normalize(hist, hist)\n",
    "    return hist.flatten()"
   ],
   "metadata": {
    "collapsed": false,
    "ExecuteTime": {
     "end_time": "2023-05-12T07:18:35.952787Z",
     "start_time": "2023-05-12T07:18:35.941792200Z"
    }
   }
  },
  {
   "cell_type": "code",
   "execution_count": 4,
   "outputs": [],
   "source": [
    "train_imgs_path = '../data/W2T1/train'\n",
    "\n",
    "categories = ['cat', 'dog']\n",
    "flat_data_arr = []  #input array\n",
    "target_arr = []  #output array\n",
    "\n",
    "train_imgs_names = sorted(os.listdir(train_imgs_path))\n",
    "\n",
    "# train_imgs_names"
   ],
   "metadata": {
    "collapsed": false,
    "ExecuteTime": {
     "end_time": "2023-05-12T07:18:37.059112500Z",
     "start_time": "2023-05-12T07:18:37.044113100Z"
    }
   }
  },
  {
   "cell_type": "code",
   "execution_count": 5,
   "outputs": [],
   "source": [
    "for img_name in train_imgs_names:\n",
    "    img_path = os.path.join(train_imgs_path, img_name)\n",
    "    img = cv2.imread(img_path)\n",
    "    img_hist = extract_histogram(img)\n",
    "    flat_data_arr.append(img_hist)\n",
    "    target_arr.append(0 if 'cat' in img_name else 1)\n",
    "flat_data = np.array(flat_data_arr)\n",
    "target = np.array(target_arr)"
   ],
   "metadata": {
    "collapsed": false,
    "ExecuteTime": {
     "end_time": "2023-05-12T07:18:40.179804500Z",
     "start_time": "2023-05-12T07:18:37.863767400Z"
    }
   }
  },
  {
   "cell_type": "code",
   "execution_count": 6,
   "outputs": [],
   "source": [
    "xtrain, xtest, ytrain, ytest = train_test_split(flat_data, target, test_size=0.25, train_size=0.75, random_state=19)"
   ],
   "metadata": {
    "collapsed": false,
    "ExecuteTime": {
     "end_time": "2023-05-12T07:18:41.153529600Z",
     "start_time": "2023-05-12T07:18:41.134489300Z"
    }
   }
  },
  {
   "cell_type": "code",
   "execution_count": 7,
   "outputs": [
    {
     "data": {
      "text/plain": "0.6973333333333334"
     },
     "execution_count": 7,
     "metadata": {},
     "output_type": "execute_result"
    }
   ],
   "source": [
    "lsvc = LinearSVC(C=0.6, random_state=19)\n",
    "\n",
    "lsvc.fit(xtrain, ytrain)\n",
    "score = lsvc.score(xtrain, ytrain)\n",
    "score"
   ],
   "metadata": {
    "collapsed": false,
    "ExecuteTime": {
     "end_time": "2023-05-12T07:18:41.862369400Z",
     "start_time": "2023-05-12T07:18:41.828369900Z"
    }
   }
  },
  {
   "cell_type": "code",
   "execution_count": null,
   "outputs": [],
   "source": [
    "# lsvc.coef_"
   ],
   "metadata": {
    "collapsed": false
   }
  },
  {
   "cell_type": "code",
   "execution_count": 11,
   "outputs": [
    {
     "data": {
      "text/plain": "[-0.42, -0.08, -0.09]"
     },
     "execution_count": 11,
     "metadata": {},
     "output_type": "execute_result"
    }
   ],
   "source": [
    "# get 11th, 13th and 318th theta coefficients\n",
    "list(map(lambda x: round(lsvc.coef_[0][x - 1], 2), [11, 13, 318]))"
   ],
   "metadata": {
    "collapsed": false,
    "ExecuteTime": {
     "end_time": "2023-05-12T07:19:11.848705800Z",
     "start_time": "2023-05-12T07:19:11.825258800Z"
    }
   }
  },
  {
   "cell_type": "code",
   "execution_count": 10,
   "outputs": [
    {
     "name": "stdout",
     "output_type": "stream",
     "text": [
      "              precision    recall  f1-score   support\n",
      "\n",
      "           0       0.51      0.76      0.61       104\n",
      "           1       0.74      0.48      0.58       146\n",
      "\n",
      "    accuracy                           0.60       250\n",
      "   macro avg       0.62      0.62      0.60       250\n",
      "weighted avg       0.64      0.60      0.59       250\n",
      "\n"
     ]
    }
   ],
   "source": [
    "from sklearn.metrics import classification_report\n",
    "\n",
    "ypred = lsvc.predict(xtest)\n",
    "cr = classification_report(ytest, ypred)\n",
    "\n",
    "print(cr)"
   ],
   "metadata": {
    "collapsed": false,
    "ExecuteTime": {
     "end_time": "2023-05-12T07:18:48.482419Z",
     "start_time": "2023-05-12T07:18:48.447421Z"
    }
   }
  },
  {
   "cell_type": "code",
   "execution_count": 19,
   "outputs": [
    {
     "data": {
      "text/plain": "array([0, 0, 0, 0])"
     },
     "execution_count": 19,
     "metadata": {},
     "output_type": "execute_result"
    }
   ],
   "source": [
    "test_imgs_names = ['dog.1035.jpg', 'dog.1022.jpg', 'cat.1018.jpg', 'cat.1022.jpg', ]\n",
    "test_imgs_path = '../data/W2T1/test'\n",
    "\n",
    "test_keys = []\n",
    "\n",
    "for test_img_name in test_imgs_names:\n",
    "    test_img_path = os.path.join(test_imgs_path, test_img_name)\n",
    "    test_img = cv2.imread(test_img_path)\n",
    "    test_img_hist = extract_histogram(test_img)\n",
    "    test_keys.append(test_img_hist)\n",
    "\n",
    "test_values = lsvc.predict(test_keys)\n",
    "test_values"
   ],
   "metadata": {
    "collapsed": false,
    "ExecuteTime": {
     "end_time": "2023-05-11T19:28:59.841459600Z",
     "start_time": "2023-05-11T19:28:59.806997900Z"
    }
   }
  }
 ]
}
